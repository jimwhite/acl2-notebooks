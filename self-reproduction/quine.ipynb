{
 "cells": [
  {
   "cell_type": "code",
   "execution_count": 1,
   "id": "ba5ff29c-f480-45da-b2ea-5a10386b0971",
   "metadata": {},
   "outputs": [
    {
     "name": "stdout",
     "output_type": "stream",
     "text": [
      "\n",
      "Summary\n",
      "Form:  ( INCLUDE-BOOK \"projects/apply/top\" ...)\n",
      "Rules: NIL\n",
      "Time:  0.74 seconds (prove: 0.00, print: 0.00, other: 0.74)\n",
      " \"/home/acl2/books/projects/apply/top.lisp\"\n"
     ]
    }
   ],
   "source": [
    "(include-book \"projects/apply/top\" :dir :system)"
   ]
  },
  {
   "cell_type": "code",
   "execution_count": 2,
   "id": "32a443cb-79ff-4c2c-a020-4e18d6edf0b1",
   "metadata": {},
   "outputs": [
    {
     "name": "stdout",
     "output_type": "stream",
     "text": [
      "\n",
      "Summary\n",
      "Form:  ( DEFCONST *QUINE* ...)\n",
      "Rules: NIL\n",
      "Time:  0.00 seconds (prove: 0.00, print: 0.00, other: 0.00)\n",
      " *QUINE*\n"
     ]
    }
   ],
   "source": [
    "(defconst *quine*\n",
    "  '(LAMBDA (X)\n",
    "      (CONS X (CONS (CONS 'QUOTE (CONS X NIL)) NIL))))"
   ]
  },
  {
   "cell_type": "code",
   "execution_count": 3,
   "id": "7ffa029f-610a-4d96-b1b4-aed1faddcdd4",
   "metadata": {},
   "outputs": [
    {
     "name": "stdout",
     "output_type": "stream",
     "text": [
      "T\n"
     ]
    }
   ],
   "source": [
    "(equal (car (apply$ *quine* (list *quine*))) *quine*)"
   ]
  },
  {
   "cell_type": "code",
   "execution_count": 4,
   "id": "51f65639-13e6-4a31-8ff8-41367cbe07e3",
   "metadata": {},
   "outputs": [
    {
     "name": "stdout",
     "output_type": "stream",
     "text": [
      "\n",
      "Q.E.D.\n",
      "\n",
      "Summary\n",
      "Form:  ( THM ...)\n",
      "Rules: ((:EXECUTABLE-COUNTERPART CAR)\n",
      "        (:EXECUTABLE-COUNTERPART EQUAL)\n",
      "        (:EXECUTABLE-COUNTERPART EV$)\n",
      "        (:EXECUTABLE-COUNTERPART PAIRLIS$)\n",
      "        (:REWRITE BETA-REDUCTION))\n",
      "Time:  0.00 seconds (prove: 0.00, print: 0.00, other: 0.00)\n",
      "Prover steps counted:  11\n",
      "\n",
      "Proof succeeded.\n"
     ]
    }
   ],
   "source": [
    "(thm (equal (car (apply$ *quine* (list *quine*))) *quine*))"
   ]
  },
  {
   "cell_type": "code",
   "execution_count": 5,
   "id": "a6d6571d-b658-483c-9fca-03fa04c9f619",
   "metadata": {},
   "outputs": [
    {
     "name": "stdout",
     "output_type": "stream",
     "text": [
      "\n",
      "Summary\n",
      "Form:  ( DEFCONST *QUINE-EXP* ...)\n",
      "Rules: NIL\n",
      "Time:  0.00 seconds (prove: 0.00, print: 0.00, other: 0.00)\n",
      " *QUINE-EXP*\n"
     ]
    }
   ],
   "source": [
    "(defconst *quine-exp* (list *quine* (list 'quote *quine*)))"
   ]
  },
  {
   "cell_type": "code",
   "execution_count": 6,
   "id": "af4a0c2f-d1c9-420d-8c08-79d2c9c3fe7f",
   "metadata": {},
   "outputs": [
    {
     "name": "stdout",
     "output_type": "stream",
     "text": [
      "((LAMBDA (X)\n",
      "   (CONS X\n",
      "         (CONS (CONS 'QUOTE (CONS X NIL)) NIL)))\n",
      " '(LAMBDA (X)\n",
      "    (CONS X\n",
      "          (CONS (CONS 'QUOTE (CONS X NIL)) NIL))))\n"
     ]
    }
   ],
   "source": [
    "*quine-exp*"
   ]
  },
  {
   "cell_type": "code",
   "execution_count": 7,
   "id": "c3c3c732-d99f-4373-aa22-7f1ccdf2cbf1",
   "metadata": {},
   "outputs": [
    {
     "name": "stdout",
     "output_type": "stream",
     "text": [
      "\n",
      "Q.E.D.\n",
      "\n",
      "Summary\n",
      "Form:  ( THM ...)\n",
      "Rules: ((:EXECUTABLE-COUNTERPART EQUAL)\n",
      "        (:EXECUTABLE-COUNTERPART EV$))\n",
      "Time:  0.00 seconds (prove: 0.00, print: 0.00, other: 0.00)\n",
      "Prover steps counted:  5\n",
      "\n",
      "Proof succeeded.\n"
     ]
    }
   ],
   "source": [
    "(thm (equal (ev$ *quine-exp* '()) *quine-exp* ))"
   ]
  },
  {
   "cell_type": "code",
   "execution_count": 8,
   "id": "cea4eb3b-6be5-407a-abf8-b3ec770d3f4a",
   "metadata": {},
   "outputs": [
    {
     "name": "stdout",
     "output_type": "stream",
     "text": [
      "\n",
      "For the admission of BOUNDED-RECURSIVE-EVAL we will use the relation\n",
      "O< (which is known to be well-founded on the domain recognized by O-P)\n",
      "and the measure (NFIX N).  The non-trivial part of the measure conjecture\n",
      "is\n",
      "\n",
      "Goal\n",
      "(AND (O-P (NFIX N))\n",
      "     (IMPLIES (NOT (ZP N))\n",
      "              (O< (NFIX (+ -1 N)) (NFIX N)))).\n",
      "Subgoal 2\n",
      "Subgoal 1\n",
      "Subgoal 1'\n",
      "\n",
      "Q.E.D.\n",
      "\n",
      "That completes the proof of the measure theorem for BOUNDED-RECURSIVE-EVAL.\n",
      "Thus, we admit this function under the principle of definition.  We\n",
      "could deduce no constraints on the type of BOUNDED-RECURSIVE-EVAL.\n",
      "\n",
      "Computing the guard conjecture for BOUNDED-RECURSIVE-EVAL....\n",
      "\n",
      "The guard conjecture for BOUNDED-RECURSIVE-EVAL is trivial to prove,\n",
      "given the :compound-recognizer rules NATP-COMPOUND-RECOGNIZER and \n",
      "ZP-COMPOUND-RECOGNIZER and primitive type reasoning.  BOUNDED-RECURSIVE-EVAL\n",
      "is compliant with Common Lisp.\n",
      "\n",
      "Summary\n",
      "Form:  ( DEFUN BOUNDED-RECURSIVE-EVAL ...)\n",
      "Rules: ((:COMPOUND-RECOGNIZER NATP-COMPOUND-RECOGNIZER)\n",
      "        (:COMPOUND-RECOGNIZER ZP-COMPOUND-RECOGNIZER)\n",
      "        (:DEFINITION NFIX)\n",
      "        (:DEFINITION O-FINP)\n",
      "        (:DEFINITION O-P)\n",
      "        (:DEFINITION O<)\n",
      "        (:EXECUTABLE-COUNTERPART TAU-SYSTEM)\n",
      "        (:FAKE-RUNE-FOR-TYPE-SET NIL))\n",
      "Time:  0.01 seconds (prove: 0.00, print: 0.00, other: 0.00)\n",
      "Prover steps counted:  103\n",
      " BOUNDED-RECURSIVE-EVAL\n"
     ]
    }
   ],
   "source": [
    "(defun bounded-recursive-eval (exp n)\n",
    "  (declare (xargs :guard (natp n)\n",
    "                  :measure (nfix n)))\n",
    "  (if (zp n) exp (bounded-recursive-eval (ev$ exp '()) (1- n))))"
   ]
  },
  {
   "cell_type": "code",
   "execution_count": 9,
   "id": "c5bcd064-1c31-4c87-a83f-70a3683100b3",
   "metadata": {},
   "outputs": [
    {
     "name": "stdout",
     "output_type": "stream",
     "text": [
      "\n",
      "*1 (the initial Goal, a key checkpoint) is pushed for proof by induction.\n",
      "\n",
      "Perhaps we can prove *1 by induction.  One induction scheme is suggested\n",
      "by this conjecture.  \n",
      "\n",
      "We will induct according to a scheme suggested by \n",
      "(BOUNDED-RECURSIVE-EVAL '((LAMBDA (X)\n",
      "                            (CONS X\n",
      "                                  (CONS (CONS 'QUOTE (CONS X NIL)) NIL)))\n",
      "                          '(LAMBDA (X)\n",
      "                             (CONS X\n",
      "                                   (CONS (CONS 'QUOTE (CONS X NIL)) NIL))))\n",
      "                        N).\n",
      "\n",
      "This suggestion was produced using the :induction rule BOUNDED-RECURSIVE-EVAL.\n",
      "If we let (:P N) denote *1 above then the induction scheme we'll use\n",
      "is\n",
      "(AND (IMPLIES (AND (NOT (ZP N)) (:P (+ -1 N)))\n",
      "              (:P N))\n",
      "     (IMPLIES (ZP N) (:P N))).\n",
      "This induction is justified by the same argument used to admit \n",
      "BOUNDED-RECURSIVE-EVAL.  When applied to the goal at hand the above\n",
      "induction scheme produces two nontautological subgoals.\n",
      "Subgoal *1/2\n",
      "Subgoal *1/1\n",
      "\n",
      "*1 is COMPLETED!\n",
      "Thus key checkpoint Goal is COMPLETED!\n",
      "\n",
      "Q.E.D.\n",
      "\n",
      "Summary\n",
      "Form:  ( THM ...)\n",
      "Rules: ((:COMPOUND-RECOGNIZER ZP-COMPOUND-RECOGNIZER)\n",
      "        (:DEFINITION BOUNDED-RECURSIVE-EVAL)\n",
      "        (:EXECUTABLE-COUNTERPART EQUAL)\n",
      "        (:EXECUTABLE-COUNTERPART EV$)\n",
      "        (:INDUCTION BOUNDED-RECURSIVE-EVAL))\n",
      "Time:  0.00 seconds (prove: 0.00, print: 0.00, other: 0.00)\n",
      "Prover steps counted:  117\n",
      "\n",
      "Proof succeeded.\n"
     ]
    }
   ],
   "source": [
    "(thm (equal (bounded-recursive-eval *quine-exp* N) *quine-exp* ))"
   ]
  },
  {
   "cell_type": "code",
   "execution_count": null,
   "id": "5049e7fb-f06f-40a5-92da-096d40b591cf",
   "metadata": {},
   "outputs": [],
   "source": []
  }
 ],
 "metadata": {
  "kernelspec": {
   "display_name": "ACL2",
   "language": "acl2",
   "name": "acl2"
  },
  "language_info": {
   "codemirror_mode": "commonlisp",
   "file_extension": ".lisp",
   "mimetype": "text/x-common-lisp",
   "name": "acl2",
   "pygments_lexer": "common-lisp"
  }
 },
 "nbformat": 4,
 "nbformat_minor": 5
}
